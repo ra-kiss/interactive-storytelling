{
 "cells": [
  {
   "cell_type": "markdown",
   "id": "5d5c498b-1344-4e9d-88d2-ab81e8975c24",
   "metadata": {},
   "source": [
    "# INTERACTIVE HUMAN IN THE LOOP STORYTELLING"
   ]
  },
  {
   "cell_type": "markdown",
   "id": "84acf928-5e72-4d54-9298-a788350de61f",
   "metadata": {},
   "source": [
    "## Data Preprocessing"
   ]
  },
  {
   "cell_type": "code",
   "execution_count": 4,
   "id": "786c4dda-ee84-4ebb-bc62-55e0a9ce8c4e",
   "metadata": {},
   "outputs": [
    {
     "name": "stderr",
     "output_type": "stream",
     "text": [
      "<>:4: SyntaxWarning: invalid escape sequence '\\R'\n",
      "<>:4: SyntaxWarning: invalid escape sequence '\\R'\n",
      "C:\\Users\\ange2\\AppData\\Local\\Temp\\ipykernel_32716\\346329042.py:4: SyntaxWarning: invalid escape sequence '\\R'\n",
      "  dataset_path = 'datasets\\ROCStories_winter2017.csv'\n"
     ]
    },
    {
     "name": "stdout",
     "output_type": "stream",
     "text": [
      "                                storyid               storytitle  \\\n",
      "0  8bbe6d11-1e2e-413c-bf81-eaea05f4f1bd   David Drops the Weight   \n",
      "1  0beabab2-fb49-460e-a6e6-f35a202e3348              Frustration   \n",
      "2  87da1a22-df0b-410c-b186-439700b70ba6       Marcus Buys Khakis   \n",
      "3  2d16bcd6-692a-4fc0-8e7c-4a6f81d9efa9       Different Opinions   \n",
      "4  c71bb23b-7731-4233-8298-76ba6886cee1  Overcoming shortcomings   \n",
      "\n",
      "                                           sentence1  \\\n",
      "0  David noticed he had put on a lot of weight re...   \n",
      "1                       Tom had a very short temper.   \n",
      "2  Marcus needed clothing for a business casual e...   \n",
      "3  Bobby thought Bill should buy a trailer and ha...   \n",
      "4          John was a pastor with a very bad memory.   \n",
      "\n",
      "                                           sentence2  \\\n",
      "0  He examined his habits to try and figure out t...   \n",
      "1               One day a guest made him very angry.   \n",
      "2  All of his clothes were either too formal or t...   \n",
      "3  Bill thought a truck would be better for what ...   \n",
      "4  He tried to memorize his sermons many days in ...   \n",
      "\n",
      "                                           sentence3  \\\n",
      "0  He realized he'd been eating too much fast foo...   \n",
      "1        He punched a hole in the wall of his house.   \n",
      "2                He decided to buy a pair of khakis.   \n",
      "3  Bobby pointed out two vehicles were much more ...   \n",
      "4  He decided to learn to sing to overcome his ha...   \n",
      "\n",
      "                                           sentence4  \\\n",
      "0  He stopped going to burger places and started ...   \n",
      "1        Tom's guest became afraid and left quickly.   \n",
      "2              The pair he bought fit him perfectly.   \n",
      "3  Bill was set in his ways with conventional thi...   \n",
      "4  He then made all his sermons into music and sa...   \n",
      "\n",
      "                                           sentence5  \n",
      "0  After a few weeks, he started to feel much bet...  \n",
      "1  Tom sat on his couch filled with regret about ...  \n",
      "2  Marcus was happy to have the right clothes for...  \n",
      "3  He ended up buying the truck he wanted despite...  \n",
      "4      His congregation was delighted and so was he.  \n"
     ]
    }
   ],
   "source": [
    "import pandas as pd\n",
    "\n",
    "dataset_path = 'datasets\\ROCStories_winter2017.csv'\n",
    "data = pd.read_csv(dataset_path)\n",
    "\n",
    "print(data.head())"
   ]
  }
 ],
 "metadata": {
  "kernelspec": {
   "display_name": "Python 3 (ipykernel)",
   "language": "python",
   "name": "python3"
  },
  "language_info": {
   "codemirror_mode": {
    "name": "ipython",
    "version": 3
   },
   "file_extension": ".py",
   "mimetype": "text/x-python",
   "name": "python",
   "nbconvert_exporter": "python",
   "pygments_lexer": "ipython3",
   "version": "3.12.3"
  }
 },
 "nbformat": 4,
 "nbformat_minor": 5
}
